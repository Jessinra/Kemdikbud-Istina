{
 "cells": [
  {
   "cell_type": "markdown",
   "metadata": {},
   "source": [
    "# Data migration"
   ]
  },
  {
   "cell_type": "markdown",
   "metadata": {},
   "source": [
    "### Setup"
   ]
  },
  {
   "cell_type": "code",
   "execution_count": null,
   "metadata": {
    "deletable": false,
    "editable": false
   },
   "outputs": [],
   "source": [
    "import pymysql\n",
    "import pandas as pd\n",
    "from paramiko import SSHClient\n",
    "from sshtunnel import SSHTunnelForwarder\n",
    "from os.path import expanduser\n",
    "import json\n",
    "import requests\n",
    "from tqdm import tqdm"
   ]
  },
  {
   "cell_type": "code",
   "execution_count": null,
   "metadata": {},
   "outputs": [],
   "source": [
    "ENV = \"prod\" # or 'dev' / 'prod'"
   ]
  },
  {
   "cell_type": "code",
   "execution_count": null,
   "metadata": {
    "deletable": false,
    "editable": false
   },
   "outputs": [],
   "source": [
    "sql_hostname = 'localhost'\n",
    "sql_username = 'root'\n",
    "sql_password = 'q1w2e3r4t5'\n",
    "sql_main_database = 'wpdikdas'\n",
    "sql_port = 3306\n",
    "ssh_host = '10.1.9.121'\n",
    "ssh_password = \"vendor#1234\"\n",
    "ssh_user = 'vendor'\n",
    "ssh_port = 2299"
   ]
  },
  {
   "cell_type": "markdown",
   "metadata": {
    "deletable": false,
    "editable": false
   },
   "source": [
    "### SSH"
   ]
  },
  {
   "cell_type": "code",
   "execution_count": null,
   "metadata": {
    "deletable": false,
    "editable": false
   },
   "outputs": [],
   "source": [
    "if ENV == \"prod\":\n",
    "    tunnel = SSHTunnelForwarder(\n",
    "            (ssh_host, ssh_port),\n",
    "            ssh_username=ssh_user,\n",
    "            ssh_password=ssh_password,\n",
    "            remote_bind_address=(sql_hostname, sql_port))\n",
    "\n",
    "    tunnel.start()"
   ]
  },
  {
   "cell_type": "code",
   "execution_count": null,
   "metadata": {
    "deletable": false,
    "editable": false
   },
   "outputs": [],
   "source": [
    "if ENV == \"prod\":\n",
    "    conn = pymysql.connect(\n",
    "        host=sql_hostname, \n",
    "        user=sql_username,\n",
    "        passwd=sql_password, \n",
    "        db=sql_main_database,\n",
    "        port=tunnel.local_bind_port\n",
    "    )"
   ]
  },
  {
   "cell_type": "markdown",
   "metadata": {
    "deletable": false,
    "editable": false
   },
   "source": [
    "### Local DB"
   ]
  },
  {
   "cell_type": "code",
   "execution_count": null,
   "metadata": {
    "deletable": false,
    "editable": false
   },
   "outputs": [],
   "source": [
    "if ENV == \"local\":\n",
    "    sql_password = 'frostysnow_98'"
   ]
  },
  {
   "cell_type": "code",
   "execution_count": null,
   "metadata": {
    "deletable": false,
    "editable": false
   },
   "outputs": [],
   "source": [
    "if ENV == \"local\":\n",
    "    conn = pymysql.connect(\n",
    "        host=sql_hostname, \n",
    "        user=sql_username,\n",
    "        passwd=sql_password, \n",
    "        db=sql_main_database,\n",
    "    )"
   ]
  },
  {
   "cell_type": "markdown",
   "metadata": {},
   "source": [
    "## Get Data"
   ]
  },
  {
   "cell_type": "code",
   "execution_count": null,
   "metadata": {
    "deletable": false,
    "editable": false
   },
   "outputs": [],
   "source": [
    "def get_and_store_json(query, json_filename): \n",
    "    data = pd.read_sql_query(query, conn)\n",
    "    data.T.to_json(json_filename)\n",
    "    return data\n",
    "\n",
    "def get(query): \n",
    "    data = pd.read_sql_query(query, conn)\n",
    "    return data"
   ]
  },
  {
   "cell_type": "markdown",
   "metadata": {},
   "source": [
    "## Migrate Post"
   ]
  },
  {
   "cell_type": "markdown",
   "metadata": {},
   "source": [
    "### Post: post"
   ]
  },
  {
   "cell_type": "code",
   "execution_count": null,
   "metadata": {
    "deletable": false,
    "editable": false
   },
   "outputs": [],
   "source": [
    "q = '''\n",
    "    SELECT p.*, a.guid AS cover_url, v.post_views_total \n",
    "    FROM wpdikdas.wpdikdas_posts p \n",
    "    JOIN wpdikdas.wpdikdas_postmeta m \n",
    "    JOIN wpdikdas.wpdikdas_posts a\n",
    "    JOIN (\n",
    "\t\tSELECT post_id, sum(post_views_total) AS post_views_total \n",
    "        FROM wpdikdas.wpdikdas_post_views_realtime \n",
    "        GROUP BY post_id\n",
    "\t) v\n",
    "    ON \n",
    "    p.ID = m.post_id AND \n",
    "    m.meta_value = a.ID AND\n",
    "    p.ID = v.post_id\n",
    "    \n",
    "    WHERE \n",
    "    p.post_type = 'post' AND\n",
    "    m.meta_key = '_thumbnail_id' AND \n",
    "    a.post_type = 'attachment'\n",
    "    \n",
    "    ORDER BY post_date ASC\n",
    "'''"
   ]
  },
  {
   "cell_type": "code",
   "execution_count": null,
   "metadata": {
    "deletable": false,
    "editable": false
   },
   "outputs": [],
   "source": [
    "post = get_and_store_json(q, \"post.json\")"
   ]
  },
  {
   "cell_type": "code",
   "execution_count": null,
   "metadata": {
    "deletable": false,
    "editable": false,
    "scrolled": false
   },
   "outputs": [],
   "source": [
    "post.head()"
   ]
  },
  {
   "cell_type": "code",
   "execution_count": null,
   "metadata": {
    "deletable": false,
    "editable": false
   },
   "outputs": [],
   "source": [
    "post.shape"
   ]
  },
  {
   "cell_type": "code",
   "execution_count": null,
   "metadata": {
    "deletable": false,
    "editable": false
   },
   "outputs": [],
   "source": [
    "json_post = json.loads(post.T.to_json())"
   ]
  },
  {
   "cell_type": "markdown",
   "metadata": {},
   "source": [
    "### Post: revision"
   ]
  },
  {
   "cell_type": "code",
   "execution_count": null,
   "metadata": {
    "deletable": false,
    "editable": false
   },
   "outputs": [],
   "source": [
    "q = '''\n",
    "    SELECT * FROM wpdikdas_posts\n",
    "    WHERE post_type = 'revision'\n",
    "'''"
   ]
  },
  {
   "cell_type": "code",
   "execution_count": null,
   "metadata": {
    "deletable": false,
    "editable": false
   },
   "outputs": [],
   "source": [
    "revision = get_and_store_json(q, \"post_revision.json\")"
   ]
  },
  {
   "cell_type": "code",
   "execution_count": null,
   "metadata": {
    "deletable": false,
    "editable": false,
    "scrolled": false
   },
   "outputs": [],
   "source": [
    "revision.head()"
   ]
  },
  {
   "cell_type": "code",
   "execution_count": null,
   "metadata": {
    "deletable": false,
    "editable": false
   },
   "outputs": [],
   "source": [
    "json_revision = json.loads(revision.T.to_json())"
   ]
  },
  {
   "cell_type": "markdown",
   "metadata": {},
   "source": [
    "## Merge both"
   ]
  },
  {
   "cell_type": "code",
   "execution_count": null,
   "metadata": {
    "deletable": false,
    "editable": false
   },
   "outputs": [],
   "source": [
    "merged_post = {}\n",
    "for k in json_post:\n",
    "    post = json_post[k]\n",
    "    merged_post[post[\"ID\"]] = post"
   ]
  },
  {
   "cell_type": "code",
   "execution_count": null,
   "metadata": {
    "deletable": false,
    "editable": false
   },
   "outputs": [],
   "source": [
    "for k in json_revision:\n",
    "    rev = json_revision[k]\n",
    "    \n",
    "    if rev[\"post_parent\"] in merged_post:\n",
    "        post = merged_post[rev[\"post_parent\"]]\n",
    "        merged_post[rev[\"post_parent\"]] = {**post, **rev}"
   ]
  },
  {
   "cell_type": "markdown",
   "metadata": {},
   "source": [
    "## Construct legit post "
   ]
  },
  {
   "cell_type": "code",
   "execution_count": null,
   "metadata": {
    "deletable": false,
    "editable": false
   },
   "outputs": [],
   "source": [
    "from slugify import slugify\n",
    "from datetime import datetime, timezone\n",
    "import re\n",
    "\n",
    "# map dikdas userid to strapi userid\n",
    "userIDMapping = {\n",
    "    1: 3,\n",
    "    6: 4,\n",
    "    7: 5,\n",
    "    8: 6,\n",
    "    9: 7,\n",
    "}\n",
    "\n",
    "def migrate_domain(text):\n",
    "    text = re.sub('http://dikdas.kemdikbud.go.id', \"{{MIGRATED_IMAGE_BASE_URL}}\", text)\n",
    "    text = re.sub('http://dikdasmen.kemdikbud.go.id', \"{{MIGRATED_IMAGE_BASE_URL}}\", text)\n",
    "    \n",
    "    return text\n",
    "\n",
    "def get_time(unix_time):\n",
    "    return datetime.fromtimestamp(unix_time).isoformat()"
   ]
  },
  {
   "cell_type": "code",
   "execution_count": null,
   "metadata": {
    "deletable": false,
    "editable": false
   },
   "outputs": [],
   "source": [
    "def migrate_post(post):\n",
    "    return {\n",
    "        \"titleID\": post['post_title'],\n",
    "        \"slug\": slugify(post['post_title']),\n",
    "        \"visitCount\": post[\"post_views_total\"],\n",
    "        \"created_by\": {\n",
    "            \"id\": userIDMapping[post[\"post_author\"]]\n",
    "        },\n",
    "        \"updated_by\": {\n",
    "            \"id\": userIDMapping[post[\"post_author\"]]\n",
    "        },\n",
    "        \"isApproved\": True,\n",
    "        \"publishDate\": get_time(post[\"post_date\"]/1000),\n",
    "        \"coverURL\": migrate_domain(post[\"cover_url\"]),\n",
    "        \"body\": {\n",
    "            \"bodyID\": migrate_domain(post[\"post_content\"])\n",
    "        },\n",
    "        \"migrated\": True,\n",
    "    }"
   ]
  },
  {
   "cell_type": "markdown",
   "metadata": {},
   "source": [
    "## Send Migration Request"
   ]
  },
  {
   "cell_type": "code",
   "execution_count": null,
   "metadata": {
    "deletable": false,
    "editable": false,
    "run_control": {
     "frozen": true
    }
   },
   "outputs": [],
   "source": [
    "url = 'http://localhost:1337/news-articles'"
   ]
  },
  {
   "cell_type": "code",
   "execution_count": null,
   "metadata": {
    "deletable": false,
    "editable": false
   },
   "outputs": [],
   "source": [
    "url = 'https://kemendikbud.herokuapp.com/news-articles'"
   ]
  },
  {
   "cell_type": "markdown",
   "metadata": {},
   "source": [
    "## Becareful!"
   ]
  },
  {
   "cell_type": "code",
   "execution_count": null,
   "metadata": {},
   "outputs": [],
   "source": [
    "for post_id in tqdm(merged_post):\n",
    "    old_post = merged_post[post_id]\n",
    "    new_post = migrate_post(old_post)\n",
    "    requests.post(url, json=new_post)"
   ]
  },
  {
   "cell_type": "markdown",
   "metadata": {},
   "source": [
    "## Post joined with its thumbnail"
   ]
  },
  {
   "cell_type": "markdown",
   "metadata": {},
   "source": [
    "```\n",
    "SELECT p.*, a.guid as cover_url \n",
    "FROM wpdikdas.wpdikdas_posts p \n",
    "JOIN wpdikdas.wpdikdas_postmeta m \n",
    "JOIN wpdikdas.wpdikdas_posts a\n",
    "ON p.ID = m.post_id and m.meta_value = a.ID\n",
    "WHERE \n",
    "p.post_type = 'post' AND\n",
    "m.meta_key = '_thumbnail_id' AND \n",
    "a.post_type = 'attachment'\n",
    "LIMIT 10;\n",
    "```\n",
    "\n",
    "there are 463 post attachment without post_parent out of 2925 images\n",
    "\n",
    "```\n",
    "SELECT count(*) FROM wpdikdas.wpdikdas_posts\n",
    "where post_type = \"attachment\" and post_parent = \"\" and post_mime_type = \"image/jpeg\"\n",
    "```\n",
    "\n",
    "```\n",
    "SELECT count(*) FROM wpdikdas.wpdikdas_posts\n",
    "where post_mime_type = \"image/jpeg\"\n",
    "```"
   ]
  },
  {
   "cell_type": "markdown",
   "metadata": {},
   "source": [
    "## Migrate Gallery"
   ]
  },
  {
   "cell_type": "code",
   "execution_count": null,
   "metadata": {
    "deletable": false,
    "editable": false
   },
   "outputs": [],
   "source": [
    "q = '''\n",
    "    SELECT guid\n",
    "    FROM wpdikdas.wpdikdas_posts \n",
    "    WHERE \n",
    "    post_type = 'attachment' AND\n",
    "    post_mime_type = 'image/jpeg'\n",
    "    ORDER BY post_date ASC\n",
    "'''"
   ]
  },
  {
   "cell_type": "code",
   "execution_count": null,
   "metadata": {
    "deletable": false,
    "editable": false
   },
   "outputs": [],
   "source": [
    "images = get_and_store_json(q, \"images.json\")"
   ]
  },
  {
   "cell_type": "code",
   "execution_count": null,
   "metadata": {
    "deletable": false,
    "editable": false
   },
   "outputs": [],
   "source": [
    "images.shape"
   ]
  },
  {
   "cell_type": "code",
   "execution_count": null,
   "metadata": {
    "deletable": false,
    "editable": false,
    "scrolled": false
   },
   "outputs": [],
   "source": [
    "images.head()"
   ]
  },
  {
   "cell_type": "code",
   "execution_count": null,
   "metadata": {
    "deletable": false,
    "editable": false
   },
   "outputs": [],
   "source": [
    "images = list(images[\"guid\"])"
   ]
  },
  {
   "cell_type": "code",
   "execution_count": null,
   "metadata": {},
   "outputs": [],
   "source": [
    "gallery_pictures = []\n",
    "\n",
    "temp = []\n",
    "for i in range(len(images)):\n",
    "    image_url = migrate_domain(images[i])\n",
    "    temp.append(image_url)\n",
    "    \n",
    "    if (i + 1) % 50 == 0:\n",
    "        gallery_pictures.append(temp)\n",
    "        temp = []"
   ]
  },
  {
   "cell_type": "markdown",
   "metadata": {},
   "source": [
    "## Create Gallery"
   ]
  },
  {
   "cell_type": "code",
   "execution_count": null,
   "metadata": {
    "deletable": false,
    "editable": false
   },
   "outputs": [],
   "source": [
    "import random\n",
    "import string\n",
    "\n",
    "def get_random_slug(k = 8):\n",
    "    return ''.join(random.choices(string.ascii_lowercase + string.digits, k=k))"
   ]
  },
  {
   "cell_type": "code",
   "execution_count": null,
   "metadata": {
    "deletable": false,
    "editable": false
   },
   "outputs": [],
   "source": [
    "def migrate_gallery(gallery_id, pictures):\n",
    "    return {\n",
    "        \"titleID\": \"Gallery {:02d}\".format(gallery_id),\n",
    "        \"titleEN\": \"Gallery {:02d}\".format(gallery_id),\n",
    "        \"subtitle\": {\n",
    "            \"subtitleID\": \"Koleksi gambar dan foto\",\n",
    "            \"subtitleEN\": \"Picture and images collection\",\n",
    "        },\n",
    "        \"slug\": \"gallery-{:02d}-{}\".format(gallery_id, get_random_slug(8)),\n",
    "        \"coverURL\": pictures[0],\n",
    "        \"pictureURLs\": \"\\n\".join(pictures),\n",
    "        \"created_by\": {\n",
    "            \"id\": 3,\n",
    "        },\n",
    "        \"updated_by\": {\n",
    "            \"id\": 3,\n",
    "        },\n",
    "        \"isActive\": True,\n",
    "        \"migrated\": True,\n",
    "    }"
   ]
  },
  {
   "cell_type": "markdown",
   "metadata": {},
   "source": [
    "## Send Migration Request"
   ]
  },
  {
   "cell_type": "code",
   "execution_count": null,
   "metadata": {
    "deletable": false,
    "editable": false,
    "run_control": {
     "frozen": true
    }
   },
   "outputs": [],
   "source": [
    "url = 'http://localhost:1337/galleries'"
   ]
  },
  {
   "cell_type": "code",
   "execution_count": null,
   "metadata": {
    "deletable": false,
    "editable": false
   },
   "outputs": [],
   "source": [
    "url = 'https://kemendikbud.herokuapp.com/galleries'"
   ]
  },
  {
   "cell_type": "code",
   "execution_count": null,
   "metadata": {
    "deletable": false,
    "editable": false,
    "run_control": {
     "frozen": true
    }
   },
   "outputs": [],
   "source": [
    "c = 100\n",
    "\n",
    "for i in tqdm(range(len(gallery_pictures))):\n",
    "    new_gallery = migrate_gallery(i, gallery_pictures[i])\n",
    "    requests.post(url, json=new_gallery)\n",
    "    \n",
    "    c -= 1\n",
    "    if c == 0:\n",
    "        break"
   ]
  },
  {
   "cell_type": "markdown",
   "metadata": {},
   "source": [
    "## Attachments"
   ]
  },
  {
   "cell_type": "code",
   "execution_count": null,
   "metadata": {
    "deletable": false,
    "editable": false
   },
   "outputs": [],
   "source": [
    "q = '''\n",
    "    SELECT guid\n",
    "    FROM wpdikdas.wpdikdas_posts \n",
    "    WHERE \n",
    "    post_type = 'attachment' AND\n",
    "    post_mime_type != 'image/jpeg'\n",
    "    ORDER BY post_date ASC\n",
    "'''"
   ]
  },
  {
   "cell_type": "code",
   "execution_count": null,
   "metadata": {
    "deletable": false,
    "editable": false
   },
   "outputs": [],
   "source": [
    "attachments = get_and_store_json(q, \"attachments.json\")"
   ]
  },
  {
   "cell_type": "code",
   "execution_count": null,
   "metadata": {
    "deletable": false,
    "editable": false
   },
   "outputs": [],
   "source": [
    "attachments.shape"
   ]
  }
 ],
 "metadata": {
  "kernelspec": {
   "display_name": "Python 3",
   "language": "python",
   "name": "python3"
  },
  "language_info": {
   "codemirror_mode": {
    "name": "ipython",
    "version": 3
   },
   "file_extension": ".py",
   "mimetype": "text/x-python",
   "name": "python",
   "nbconvert_exporter": "python",
   "pygments_lexer": "ipython3",
   "version": "3.6.9"
  }
 },
 "nbformat": 4,
 "nbformat_minor": 2
}
