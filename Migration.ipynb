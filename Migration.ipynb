{
 "cells": [
  {
   "cell_type": "markdown",
   "metadata": {},
   "source": [
    "# Data migration"
   ]
  },
  {
   "cell_type": "markdown",
   "metadata": {},
   "source": [
    "### Setup"
   ]
  },
  {
   "cell_type": "code",
   "execution_count": 1,
   "metadata": {},
   "outputs": [],
   "source": [
    "import pymysql\n",
    "import pandas as pd\n",
    "from paramiko import SSHClient\n",
    "from sshtunnel import SSHTunnelForwarder\n",
    "from os.path import expanduser\n",
    "import json\n",
    "import requests\n",
    "from tqdm import tqdm"
   ]
  },
  {
   "cell_type": "code",
   "execution_count": 9,
   "metadata": {},
   "outputs": [],
   "source": [
    "ENV = \"local\" # or 'dev' / 'prod'"
   ]
  },
  {
   "cell_type": "code",
   "execution_count": 10,
   "metadata": {
    "deletable": false,
    "editable": false
   },
   "outputs": [],
   "source": [
    "sql_hostname = 'localhost'\n",
    "sql_username = 'root'\n",
    "sql_password = 'q1w2e3r4t5'\n",
    "sql_main_database = 'wpdikdas'\n",
    "sql_port = 3306\n",
    "ssh_host = '10.1.9.121'\n",
    "ssh_password = \"vendor#1234\"\n",
    "ssh_user = 'vendor'\n",
    "ssh_port = 2299"
   ]
  },
  {
   "cell_type": "markdown",
   "metadata": {
    "deletable": false,
    "editable": false
   },
   "source": [
    "### SSH"
   ]
  },
  {
   "cell_type": "code",
   "execution_count": 11,
   "metadata": {
    "deletable": false,
    "editable": false
   },
   "outputs": [],
   "source": [
    "if ENV == \"prod\":\n",
    "    tunnel = SSHTunnelForwarder(\n",
    "            (ssh_host, ssh_port),\n",
    "            ssh_username=ssh_user,\n",
    "            ssh_password=ssh_password,\n",
    "            remote_bind_address=(sql_hostname, sql_port))\n",
    "\n",
    "    tunnel.start()"
   ]
  },
  {
   "cell_type": "code",
   "execution_count": 12,
   "metadata": {
    "deletable": false,
    "editable": false
   },
   "outputs": [],
   "source": [
    "if ENV == \"prod\":\n",
    "    conn = pymysql.connect(\n",
    "        host=sql_hostname, \n",
    "        user=sql_username,\n",
    "        passwd=sql_password, \n",
    "        db=sql_main_database,\n",
    "        port=tunnel.local_bind_port\n",
    "    )"
   ]
  },
  {
   "cell_type": "markdown",
   "metadata": {
    "deletable": false,
    "editable": false
   },
   "source": [
    "### Local DB"
   ]
  },
  {
   "cell_type": "code",
   "execution_count": 13,
   "metadata": {
    "deletable": false,
    "editable": false
   },
   "outputs": [],
   "source": [
    "if ENV == \"local\":\n",
    "    sql_password = 'frostysnow_98'"
   ]
  },
  {
   "cell_type": "code",
   "execution_count": 14,
   "metadata": {
    "deletable": false,
    "editable": false
   },
   "outputs": [],
   "source": [
    "if ENV == \"local\":\n",
    "    conn = pymysql.connect(\n",
    "        host=sql_hostname, \n",
    "        user=sql_username,\n",
    "        passwd=sql_password, \n",
    "        db=sql_main_database,\n",
    "    )"
   ]
  },
  {
   "cell_type": "markdown",
   "metadata": {},
   "source": [
    "## Get Data"
   ]
  },
  {
   "cell_type": "code",
   "execution_count": 15,
   "metadata": {
    "deletable": false,
    "editable": false
   },
   "outputs": [],
   "source": [
    "def get_and_store_json(query, json_filename): \n",
    "    data = pd.read_sql_query(query, conn)\n",
    "    data.T.to_json(json_filename)\n",
    "    return data\n",
    "\n",
    "def get(query): \n",
    "    data = pd.read_sql_query(query, conn)\n",
    "    return data"
   ]
  },
  {
   "cell_type": "markdown",
   "metadata": {},
   "source": [
    "## Migrate Post"
   ]
  },
  {
   "cell_type": "markdown",
   "metadata": {},
   "source": [
    "### Post: post"
   ]
  },
  {
   "cell_type": "code",
   "execution_count": 16,
   "metadata": {
    "deletable": false,
    "editable": false
   },
   "outputs": [],
   "source": [
    "q = '''\n",
    "    SELECT p.*, a.guid AS cover_url, v.post_views_total \n",
    "    FROM wpdikdas.wpdikdas_posts p \n",
    "    JOIN wpdikdas.wpdikdas_postmeta m \n",
    "    JOIN wpdikdas.wpdikdas_posts a\n",
    "    JOIN (\n",
    "\t\tSELECT post_id, sum(post_views_total) AS post_views_total \n",
    "        FROM wpdikdas.wpdikdas_post_views_realtime \n",
    "        GROUP BY post_id\n",
    "\t) v\n",
    "    ON \n",
    "    p.ID = m.post_id AND \n",
    "    m.meta_value = a.ID AND\n",
    "    p.ID = v.post_id\n",
    "    \n",
    "    WHERE \n",
    "    p.post_type = 'post' AND\n",
    "    m.meta_key = '_thumbnail_id' AND \n",
    "    a.post_type = 'attachment'\n",
    "'''"
   ]
  },
  {
   "cell_type": "code",
   "execution_count": 17,
   "metadata": {
    "deletable": false,
    "editable": false
   },
   "outputs": [],
   "source": [
    "post = get_and_store_json(q, \"post.json\")"
   ]
  },
  {
   "cell_type": "code",
   "execution_count": 18,
   "metadata": {
    "deletable": false,
    "editable": false,
    "scrolled": false
   },
   "outputs": [
    {
     "data": {
      "text/html": [
       "<div>\n",
       "<style scoped>\n",
       "    .dataframe tbody tr th:only-of-type {\n",
       "        vertical-align: middle;\n",
       "    }\n",
       "\n",
       "    .dataframe tbody tr th {\n",
       "        vertical-align: top;\n",
       "    }\n",
       "\n",
       "    .dataframe thead th {\n",
       "        text-align: right;\n",
       "    }\n",
       "</style>\n",
       "<table border=\"1\" class=\"dataframe\">\n",
       "  <thead>\n",
       "    <tr style=\"text-align: right;\">\n",
       "      <th></th>\n",
       "      <th>ID</th>\n",
       "      <th>post_author</th>\n",
       "      <th>post_date</th>\n",
       "      <th>post_date_gmt</th>\n",
       "      <th>post_content</th>\n",
       "      <th>post_title</th>\n",
       "      <th>post_excerpt</th>\n",
       "      <th>post_status</th>\n",
       "      <th>comment_status</th>\n",
       "      <th>ping_status</th>\n",
       "      <th>...</th>\n",
       "      <th>post_modified_gmt</th>\n",
       "      <th>post_content_filtered</th>\n",
       "      <th>post_parent</th>\n",
       "      <th>guid</th>\n",
       "      <th>menu_order</th>\n",
       "      <th>post_type</th>\n",
       "      <th>post_mime_type</th>\n",
       "      <th>comment_count</th>\n",
       "      <th>cover_url</th>\n",
       "      <th>post_views_total</th>\n",
       "    </tr>\n",
       "  </thead>\n",
       "  <tbody>\n",
       "    <tr>\n",
       "      <th>0</th>\n",
       "      <td>84</td>\n",
       "      <td>1</td>\n",
       "      <td>2014-01-19 13:20:37</td>\n",
       "      <td>2014-01-19 06:20:37</td>\n",
       "      <td>&lt;p style=\"text-align: justify;\"&gt;Harianjogja.co...</td>\n",
       "      <td>Pramuka Harus Kreatif, agar Disukai Anak</td>\n",
       "      <td></td>\n",
       "      <td>publish</td>\n",
       "      <td>open</td>\n",
       "      <td>open</td>\n",
       "      <td>...</td>\n",
       "      <td>2014-02-24 05:47:33</td>\n",
       "      <td></td>\n",
       "      <td>0</td>\n",
       "      <td>http://dikdas.kemdikbud.go.id/?p=84</td>\n",
       "      <td>0</td>\n",
       "      <td>post</td>\n",
       "      <td></td>\n",
       "      <td>0</td>\n",
       "      <td>http://dikdas.kemdikbud.go.id/wp-content/uploa...</td>\n",
       "      <td>1269.0</td>\n",
       "    </tr>\n",
       "    <tr>\n",
       "      <th>1</th>\n",
       "      <td>139</td>\n",
       "      <td>1</td>\n",
       "      <td>2014-02-06 17:02:26</td>\n",
       "      <td>2014-02-06 10:02:26</td>\n",
       "      <td>&lt;p style=\"text-align: center;\"&gt;Oleh &lt;b&gt;Prof. S...</td>\n",
       "      <td>Kurikulum Pendidikan Haruslah Memberi Tantanga...</td>\n",
       "      <td></td>\n",
       "      <td>publish</td>\n",
       "      <td>open</td>\n",
       "      <td>open</td>\n",
       "      <td>...</td>\n",
       "      <td>2014-02-06 10:03:27</td>\n",
       "      <td></td>\n",
       "      <td>0</td>\n",
       "      <td>http://dikdas.kemdikbud.go.id/?p=139</td>\n",
       "      <td>0</td>\n",
       "      <td>post</td>\n",
       "      <td></td>\n",
       "      <td>0</td>\n",
       "      <td>http://dikdas.kemdikbud.go.id/wp-content/uploa...</td>\n",
       "      <td>90527.0</td>\n",
       "    </tr>\n",
       "    <tr>\n",
       "      <th>2</th>\n",
       "      <td>179</td>\n",
       "      <td>1</td>\n",
       "      <td>2014-01-08 16:44:47</td>\n",
       "      <td>2014-01-08 09:44:47</td>\n",
       "      <td>&lt;a href=\"http://dikdas.kemdikbud.go.id/wp-cont...</td>\n",
       "      <td>DAK Dikdas Rp 6,5 T</td>\n",
       "      <td></td>\n",
       "      <td>publish</td>\n",
       "      <td>open</td>\n",
       "      <td>open</td>\n",
       "      <td>...</td>\n",
       "      <td>2014-02-13 06:07:53</td>\n",
       "      <td></td>\n",
       "      <td>0</td>\n",
       "      <td>http://dikdas.kemdikbud.go.id/?p=179</td>\n",
       "      <td>0</td>\n",
       "      <td>post</td>\n",
       "      <td></td>\n",
       "      <td>0</td>\n",
       "      <td>http://dikdas.kemdikbud.go.id/wp-content/uploa...</td>\n",
       "      <td>2730.0</td>\n",
       "    </tr>\n",
       "    <tr>\n",
       "      <th>3</th>\n",
       "      <td>190</td>\n",
       "      <td>1</td>\n",
       "      <td>2014-02-05 16:17:57</td>\n",
       "      <td>2014-02-05 09:17:57</td>\n",
       "      <td>&lt;a href=\"http://dikdas.kemdikbud.go.id/wp-cont...</td>\n",
       "      <td>Perbaikan Sekolah di Kota Bekasi Rp 60 Miliar</td>\n",
       "      <td></td>\n",
       "      <td>publish</td>\n",
       "      <td>open</td>\n",
       "      <td>open</td>\n",
       "      <td>...</td>\n",
       "      <td>2014-02-05 09:17:57</td>\n",
       "      <td></td>\n",
       "      <td>0</td>\n",
       "      <td>http://dikdas.kemdikbud.go.id/?p=190</td>\n",
       "      <td>0</td>\n",
       "      <td>post</td>\n",
       "      <td></td>\n",
       "      <td>0</td>\n",
       "      <td>http://dikdas.kemdikbud.go.id/wp-content/uploa...</td>\n",
       "      <td>755.0</td>\n",
       "    </tr>\n",
       "    <tr>\n",
       "      <th>4</th>\n",
       "      <td>193</td>\n",
       "      <td>1</td>\n",
       "      <td>2014-02-05 16:22:44</td>\n",
       "      <td>2014-02-05 09:22:44</td>\n",
       "      <td>&lt;a href=\"http://dikdas.kemdikbud.go.id/wp-cont...</td>\n",
       "      <td>Indonesia Jadi Tamu Kehormatan di Frankfurt Bo...</td>\n",
       "      <td></td>\n",
       "      <td>publish</td>\n",
       "      <td>open</td>\n",
       "      <td>open</td>\n",
       "      <td>...</td>\n",
       "      <td>2014-02-05 09:22:44</td>\n",
       "      <td></td>\n",
       "      <td>0</td>\n",
       "      <td>http://dikdas.kemdikbud.go.id/?p=193</td>\n",
       "      <td>0</td>\n",
       "      <td>post</td>\n",
       "      <td></td>\n",
       "      <td>0</td>\n",
       "      <td>http://dikdas.kemdikbud.go.id/wp-content/uploa...</td>\n",
       "      <td>680.0</td>\n",
       "    </tr>\n",
       "  </tbody>\n",
       "</table>\n",
       "<p>5 rows × 25 columns</p>\n",
       "</div>"
      ],
      "text/plain": [
       "    ID  post_author           post_date       post_date_gmt  \\\n",
       "0   84            1 2014-01-19 13:20:37 2014-01-19 06:20:37   \n",
       "1  139            1 2014-02-06 17:02:26 2014-02-06 10:02:26   \n",
       "2  179            1 2014-01-08 16:44:47 2014-01-08 09:44:47   \n",
       "3  190            1 2014-02-05 16:17:57 2014-02-05 09:17:57   \n",
       "4  193            1 2014-02-05 16:22:44 2014-02-05 09:22:44   \n",
       "\n",
       "                                        post_content  \\\n",
       "0  <p style=\"text-align: justify;\">Harianjogja.co...   \n",
       "1  <p style=\"text-align: center;\">Oleh <b>Prof. S...   \n",
       "2  <a href=\"http://dikdas.kemdikbud.go.id/wp-cont...   \n",
       "3  <a href=\"http://dikdas.kemdikbud.go.id/wp-cont...   \n",
       "4  <a href=\"http://dikdas.kemdikbud.go.id/wp-cont...   \n",
       "\n",
       "                                          post_title post_excerpt post_status  \\\n",
       "0           Pramuka Harus Kreatif, agar Disukai Anak                  publish   \n",
       "1  Kurikulum Pendidikan Haruslah Memberi Tantanga...                  publish   \n",
       "2                                DAK Dikdas Rp 6,5 T                  publish   \n",
       "3      Perbaikan Sekolah di Kota Bekasi Rp 60 Miliar                  publish   \n",
       "4  Indonesia Jadi Tamu Kehormatan di Frankfurt Bo...                  publish   \n",
       "\n",
       "  comment_status ping_status  ...   post_modified_gmt post_content_filtered  \\\n",
       "0           open        open  ... 2014-02-24 05:47:33                         \n",
       "1           open        open  ... 2014-02-06 10:03:27                         \n",
       "2           open        open  ... 2014-02-13 06:07:53                         \n",
       "3           open        open  ... 2014-02-05 09:17:57                         \n",
       "4           open        open  ... 2014-02-05 09:22:44                         \n",
       "\n",
       "  post_parent                                  guid menu_order post_type  \\\n",
       "0           0   http://dikdas.kemdikbud.go.id/?p=84          0      post   \n",
       "1           0  http://dikdas.kemdikbud.go.id/?p=139          0      post   \n",
       "2           0  http://dikdas.kemdikbud.go.id/?p=179          0      post   \n",
       "3           0  http://dikdas.kemdikbud.go.id/?p=190          0      post   \n",
       "4           0  http://dikdas.kemdikbud.go.id/?p=193          0      post   \n",
       "\n",
       "  post_mime_type  comment_count  \\\n",
       "0                             0   \n",
       "1                             0   \n",
       "2                             0   \n",
       "3                             0   \n",
       "4                             0   \n",
       "\n",
       "                                           cover_url  post_views_total  \n",
       "0  http://dikdas.kemdikbud.go.id/wp-content/uploa...            1269.0  \n",
       "1  http://dikdas.kemdikbud.go.id/wp-content/uploa...           90527.0  \n",
       "2  http://dikdas.kemdikbud.go.id/wp-content/uploa...            2730.0  \n",
       "3  http://dikdas.kemdikbud.go.id/wp-content/uploa...             755.0  \n",
       "4  http://dikdas.kemdikbud.go.id/wp-content/uploa...             680.0  \n",
       "\n",
       "[5 rows x 25 columns]"
      ]
     },
     "execution_count": 18,
     "metadata": {},
     "output_type": "execute_result"
    }
   ],
   "source": [
    "post.head()"
   ]
  },
  {
   "cell_type": "code",
   "execution_count": 19,
   "metadata": {
    "deletable": false,
    "editable": false
   },
   "outputs": [
    {
     "data": {
      "text/plain": [
       "(2241, 25)"
      ]
     },
     "execution_count": 19,
     "metadata": {},
     "output_type": "execute_result"
    }
   ],
   "source": [
    "post.shape"
   ]
  },
  {
   "cell_type": "code",
   "execution_count": 20,
   "metadata": {
    "deletable": false,
    "editable": false
   },
   "outputs": [],
   "source": [
    "json_post = json.loads(post.T.to_json())"
   ]
  },
  {
   "cell_type": "markdown",
   "metadata": {},
   "source": [
    "### Post: revision"
   ]
  },
  {
   "cell_type": "code",
   "execution_count": 21,
   "metadata": {
    "deletable": false,
    "editable": false
   },
   "outputs": [],
   "source": [
    "q = '''\n",
    "    SELECT * FROM wpdikdas_posts\n",
    "    WHERE post_type = 'revision'\n",
    "'''"
   ]
  },
  {
   "cell_type": "code",
   "execution_count": 22,
   "metadata": {
    "deletable": false,
    "editable": false
   },
   "outputs": [],
   "source": [
    "revision = get_and_store_json(q, \"post_revision.json\")"
   ]
  },
  {
   "cell_type": "code",
   "execution_count": 23,
   "metadata": {
    "deletable": false,
    "editable": false,
    "scrolled": false
   },
   "outputs": [
    {
     "data": {
      "text/html": [
       "<div>\n",
       "<style scoped>\n",
       "    .dataframe tbody tr th:only-of-type {\n",
       "        vertical-align: middle;\n",
       "    }\n",
       "\n",
       "    .dataframe tbody tr th {\n",
       "        vertical-align: top;\n",
       "    }\n",
       "\n",
       "    .dataframe thead th {\n",
       "        text-align: right;\n",
       "    }\n",
       "</style>\n",
       "<table border=\"1\" class=\"dataframe\">\n",
       "  <thead>\n",
       "    <tr style=\"text-align: right;\">\n",
       "      <th></th>\n",
       "      <th>ID</th>\n",
       "      <th>post_author</th>\n",
       "      <th>post_date</th>\n",
       "      <th>post_date_gmt</th>\n",
       "      <th>post_content</th>\n",
       "      <th>post_title</th>\n",
       "      <th>post_excerpt</th>\n",
       "      <th>post_status</th>\n",
       "      <th>comment_status</th>\n",
       "      <th>ping_status</th>\n",
       "      <th>...</th>\n",
       "      <th>pinged</th>\n",
       "      <th>post_modified</th>\n",
       "      <th>post_modified_gmt</th>\n",
       "      <th>post_content_filtered</th>\n",
       "      <th>post_parent</th>\n",
       "      <th>guid</th>\n",
       "      <th>menu_order</th>\n",
       "      <th>post_type</th>\n",
       "      <th>post_mime_type</th>\n",
       "      <th>comment_count</th>\n",
       "    </tr>\n",
       "  </thead>\n",
       "  <tbody>\n",
       "    <tr>\n",
       "      <th>0</th>\n",
       "      <td>5</td>\n",
       "      <td>1</td>\n",
       "      <td>2014-02-01 10:40:52</td>\n",
       "      <td>2014-02-01 03:40:52</td>\n",
       "      <td></td>\n",
       "      <td>Visi dan Misi</td>\n",
       "      <td></td>\n",
       "      <td>inherit</td>\n",
       "      <td>open</td>\n",
       "      <td>open</td>\n",
       "      <td>...</td>\n",
       "      <td></td>\n",
       "      <td>2014-02-01 10:40:52</td>\n",
       "      <td>2014-02-01 03:40:52</td>\n",
       "      <td></td>\n",
       "      <td>4</td>\n",
       "      <td>http://dikdas.kemdikbud.go.id/baru/?p=5</td>\n",
       "      <td>0</td>\n",
       "      <td>revision</td>\n",
       "      <td></td>\n",
       "      <td>0</td>\n",
       "    </tr>\n",
       "    <tr>\n",
       "      <th>1</th>\n",
       "      <td>7</td>\n",
       "      <td>1</td>\n",
       "      <td>2014-02-01 10:41:20</td>\n",
       "      <td>2014-02-01 03:41:20</td>\n",
       "      <td></td>\n",
       "      <td>Struktur Organisasi</td>\n",
       "      <td></td>\n",
       "      <td>inherit</td>\n",
       "      <td>open</td>\n",
       "      <td>open</td>\n",
       "      <td>...</td>\n",
       "      <td></td>\n",
       "      <td>2014-02-01 10:41:20</td>\n",
       "      <td>2014-02-01 03:41:20</td>\n",
       "      <td></td>\n",
       "      <td>6</td>\n",
       "      <td>http://dikdas.kemdikbud.go.id/baru/?p=7</td>\n",
       "      <td>0</td>\n",
       "      <td>revision</td>\n",
       "      <td></td>\n",
       "      <td>0</td>\n",
       "    </tr>\n",
       "    <tr>\n",
       "      <th>2</th>\n",
       "      <td>11</td>\n",
       "      <td>1</td>\n",
       "      <td>2014-02-01 10:42:06</td>\n",
       "      <td>2014-02-01 03:42:06</td>\n",
       "      <td></td>\n",
       "      <td>DAPODIK</td>\n",
       "      <td></td>\n",
       "      <td>inherit</td>\n",
       "      <td>open</td>\n",
       "      <td>open</td>\n",
       "      <td>...</td>\n",
       "      <td></td>\n",
       "      <td>2014-02-01 10:42:06</td>\n",
       "      <td>2014-02-01 03:42:06</td>\n",
       "      <td></td>\n",
       "      <td>10</td>\n",
       "      <td>http://dikdas.kemdikbud.go.id/baru/?p=11</td>\n",
       "      <td>0</td>\n",
       "      <td>revision</td>\n",
       "      <td></td>\n",
       "      <td>0</td>\n",
       "    </tr>\n",
       "    <tr>\n",
       "      <th>3</th>\n",
       "      <td>13</td>\n",
       "      <td>1</td>\n",
       "      <td>2014-02-01 10:42:53</td>\n",
       "      <td>2014-02-01 03:42:53</td>\n",
       "      <td></td>\n",
       "      <td>Hubungi Kami</td>\n",
       "      <td></td>\n",
       "      <td>inherit</td>\n",
       "      <td>open</td>\n",
       "      <td>open</td>\n",
       "      <td>...</td>\n",
       "      <td></td>\n",
       "      <td>2014-02-01 10:42:53</td>\n",
       "      <td>2014-02-01 03:42:53</td>\n",
       "      <td></td>\n",
       "      <td>12</td>\n",
       "      <td>http://dikdas.kemdikbud.go.id/baru/?p=13</td>\n",
       "      <td>0</td>\n",
       "      <td>revision</td>\n",
       "      <td></td>\n",
       "      <td>0</td>\n",
       "    </tr>\n",
       "    <tr>\n",
       "      <th>4</th>\n",
       "      <td>30</td>\n",
       "      <td>1</td>\n",
       "      <td>2014-02-03 09:12:58</td>\n",
       "      <td>2014-02-03 02:12:58</td>\n",
       "      <td>Gedung E Lantai 5 Jln. Jendral Sudirman,\\nSena...</td>\n",
       "      <td>Hubungi Kami</td>\n",
       "      <td></td>\n",
       "      <td>inherit</td>\n",
       "      <td>open</td>\n",
       "      <td>open</td>\n",
       "      <td>...</td>\n",
       "      <td></td>\n",
       "      <td>2014-02-03 09:12:58</td>\n",
       "      <td>2014-02-03 02:12:58</td>\n",
       "      <td></td>\n",
       "      <td>12</td>\n",
       "      <td>http://dikdas.kemdikbud.go.id/12-autosave-v1/</td>\n",
       "      <td>0</td>\n",
       "      <td>revision</td>\n",
       "      <td></td>\n",
       "      <td>0</td>\n",
       "    </tr>\n",
       "  </tbody>\n",
       "</table>\n",
       "<p>5 rows × 23 columns</p>\n",
       "</div>"
      ],
      "text/plain": [
       "   ID  post_author           post_date       post_date_gmt  \\\n",
       "0   5            1 2014-02-01 10:40:52 2014-02-01 03:40:52   \n",
       "1   7            1 2014-02-01 10:41:20 2014-02-01 03:41:20   \n",
       "2  11            1 2014-02-01 10:42:06 2014-02-01 03:42:06   \n",
       "3  13            1 2014-02-01 10:42:53 2014-02-01 03:42:53   \n",
       "4  30            1 2014-02-03 09:12:58 2014-02-03 02:12:58   \n",
       "\n",
       "                                        post_content           post_title  \\\n",
       "0                                                           Visi dan Misi   \n",
       "1                                                     Struktur Organisasi   \n",
       "2                                                                 DAPODIK   \n",
       "3                                                            Hubungi Kami   \n",
       "4  Gedung E Lantai 5 Jln. Jendral Sudirman,\\nSena...         Hubungi Kami   \n",
       "\n",
       "  post_excerpt post_status comment_status ping_status  ... pinged  \\\n",
       "0                  inherit           open        open  ...          \n",
       "1                  inherit           open        open  ...          \n",
       "2                  inherit           open        open  ...          \n",
       "3                  inherit           open        open  ...          \n",
       "4                  inherit           open        open  ...          \n",
       "\n",
       "        post_modified   post_modified_gmt post_content_filtered post_parent  \\\n",
       "0 2014-02-01 10:40:52 2014-02-01 03:40:52                                 4   \n",
       "1 2014-02-01 10:41:20 2014-02-01 03:41:20                                 6   \n",
       "2 2014-02-01 10:42:06 2014-02-01 03:42:06                                10   \n",
       "3 2014-02-01 10:42:53 2014-02-01 03:42:53                                12   \n",
       "4 2014-02-03 09:12:58 2014-02-03 02:12:58                                12   \n",
       "\n",
       "                                            guid menu_order  post_type  \\\n",
       "0        http://dikdas.kemdikbud.go.id/baru/?p=5          0   revision   \n",
       "1        http://dikdas.kemdikbud.go.id/baru/?p=7          0   revision   \n",
       "2       http://dikdas.kemdikbud.go.id/baru/?p=11          0   revision   \n",
       "3       http://dikdas.kemdikbud.go.id/baru/?p=13          0   revision   \n",
       "4  http://dikdas.kemdikbud.go.id/12-autosave-v1/          0   revision   \n",
       "\n",
       "  post_mime_type  comment_count  \n",
       "0                             0  \n",
       "1                             0  \n",
       "2                             0  \n",
       "3                             0  \n",
       "4                             0  \n",
       "\n",
       "[5 rows x 23 columns]"
      ]
     },
     "execution_count": 23,
     "metadata": {},
     "output_type": "execute_result"
    }
   ],
   "source": [
    "revision.head()"
   ]
  },
  {
   "cell_type": "code",
   "execution_count": 24,
   "metadata": {
    "deletable": false,
    "editable": false
   },
   "outputs": [],
   "source": [
    "json_revision = json.loads(revision.T.to_json())"
   ]
  },
  {
   "cell_type": "markdown",
   "metadata": {},
   "source": [
    "## Merge both"
   ]
  },
  {
   "cell_type": "code",
   "execution_count": 25,
   "metadata": {
    "deletable": false,
    "editable": false
   },
   "outputs": [],
   "source": [
    "merged_post = {}\n",
    "for k in json_post:\n",
    "    post = json_post[k]\n",
    "    merged_post[post[\"ID\"]] = post"
   ]
  },
  {
   "cell_type": "code",
   "execution_count": 26,
   "metadata": {
    "deletable": false,
    "editable": false
   },
   "outputs": [],
   "source": [
    "for k in json_revision:\n",
    "    rev = json_revision[k]\n",
    "    \n",
    "    if rev[\"post_parent\"] in merged_post:\n",
    "        post = merged_post[rev[\"post_parent\"]]\n",
    "        merged_post[rev[\"post_parent\"]] = {**post, **rev}"
   ]
  },
  {
   "cell_type": "markdown",
   "metadata": {},
   "source": [
    "## Construct legit post "
   ]
  },
  {
   "cell_type": "code",
   "execution_count": 27,
   "metadata": {
    "deletable": false,
    "editable": false
   },
   "outputs": [],
   "source": [
    "from slugify import slugify\n",
    "from datetime import datetime, timezone\n",
    "import re\n",
    "\n",
    "# map dikdas userid to strapi userid\n",
    "userIDMapping = {\n",
    "    1: 3,\n",
    "    6: 4,\n",
    "    7: 5,\n",
    "    8: 6,\n",
    "    9: 7,\n",
    "}\n",
    "\n",
    "def migrate_domain(text):\n",
    "    text = re.sub('http://dikdas.kemdikbud.go.id', \"{{MIGRATED_IMAGE_BASE_URL}}\", text)\n",
    "    text = re.sub('http://dikdasmen.kemdikbud.go.id', \"{{MIGRATED_IMAGE_BASE_URL}}\", text)\n",
    "    \n",
    "    return text\n",
    "\n",
    "def get_time(unix_time):\n",
    "    return datetime.fromtimestamp(unix_time).isoformat()"
   ]
  },
  {
   "cell_type": "code",
   "execution_count": 28,
   "metadata": {
    "deletable": false,
    "editable": false
   },
   "outputs": [],
   "source": [
    "def migrate_post(post):\n",
    "    return {\n",
    "        \"titleID\": post['post_title'],\n",
    "        \"slug\": slugify(post['post_title']),\n",
    "        \"visitCount\": post[\"post_views_total\"],\n",
    "        \"created_by\": {\n",
    "            \"id\": userIDMapping[post[\"post_author\"]]\n",
    "        },\n",
    "        \"updated_by\": {\n",
    "            \"id\": userIDMapping[post[\"post_author\"]]\n",
    "        },\n",
    "        \"isApproved\": True,\n",
    "        \"publishDate\": get_time(post[\"post_date\"]/1000),\n",
    "        \"coverURL\": migrate_domain(post[\"cover_url\"]),\n",
    "        \"body\": {\n",
    "            \"bodyID\": migrate_domain(post[\"post_content\"])\n",
    "        },\n",
    "        \"migrated\": True,\n",
    "    }"
   ]
  },
  {
   "cell_type": "markdown",
   "metadata": {},
   "source": [
    "## Send Migration Request"
   ]
  },
  {
   "cell_type": "code",
   "execution_count": 37,
   "metadata": {
    "deletable": false,
    "editable": false,
    "run_control": {
     "frozen": true
    }
   },
   "outputs": [],
   "source": [
    "url = 'http://localhost:1337/news-articles'"
   ]
  },
  {
   "cell_type": "code",
   "execution_count": null,
   "metadata": {
    "deletable": false,
    "editable": false,
    "run_control": {
     "frozen": true
    }
   },
   "outputs": [],
   "source": [
    "url = 'https://kemendikbud.herokuapp.com/news-articles'"
   ]
  },
  {
   "cell_type": "markdown",
   "metadata": {},
   "source": [
    "## Becareful!"
   ]
  },
  {
   "cell_type": "code",
   "execution_count": 38,
   "metadata": {},
   "outputs": [
    {
     "name": "stderr",
     "output_type": "stream",
     "text": [
      "  1%|          | 18/2241 [00:00<01:02, 35.33it/s]\n"
     ]
    }
   ],
   "source": [
    "c = 20\n",
    "\n",
    "for post_id in tqdm(merged_post):\n",
    "    old_post = merged_post[post_id]\n",
    "    new_post = migrate_post(old_post)\n",
    "\n",
    "    requests.post(url, json=new_post)\n",
    "    \n",
    "    c -= 1\n",
    "    if c == 0:\n",
    "        break"
   ]
  },
  {
   "cell_type": "markdown",
   "metadata": {},
   "source": [
    "## Post joined with its thumbnail"
   ]
  },
  {
   "cell_type": "markdown",
   "metadata": {},
   "source": [
    "```\n",
    "SELECT p.*, a.guid as cover_url \n",
    "FROM wpdikdas.wpdikdas_posts p \n",
    "JOIN wpdikdas.wpdikdas_postmeta m \n",
    "JOIN wpdikdas.wpdikdas_posts a\n",
    "ON p.ID = m.post_id and m.meta_value = a.ID\n",
    "WHERE \n",
    "p.post_type = 'post' AND\n",
    "m.meta_key = '_thumbnail_id' AND \n",
    "a.post_type = 'attachment'\n",
    "LIMIT 10;\n",
    "```\n",
    "\n",
    "there are 463 post attachment without post_parent out of 2925 images\n",
    "\n",
    "```\n",
    "SELECT count(*) FROM wpdikdas.wpdikdas_posts\n",
    "where post_type = \"attachment\" and post_parent = \"\" and post_mime_type = \"image/jpeg\"\n",
    "```\n",
    "\n",
    "```\n",
    "SELECT count(*) FROM wpdikdas.wpdikdas_posts\n",
    "where post_mime_type = \"image/jpeg\"\n",
    "```"
   ]
  },
  {
   "cell_type": "markdown",
   "metadata": {},
   "source": [
    "## Migrate Gallery"
   ]
  },
  {
   "cell_type": "code",
   "execution_count": 29,
   "metadata": {
    "deletable": false,
    "editable": false
   },
   "outputs": [],
   "source": [
    "q = '''\n",
    "    SELECT guid\n",
    "    FROM wpdikdas.wpdikdas_posts \n",
    "    WHERE \n",
    "    post_type = 'attachment' AND\n",
    "    post_mime_type = 'image/jpeg'\n",
    "    ORDER BY post_date ASC\n",
    "'''"
   ]
  },
  {
   "cell_type": "code",
   "execution_count": 30,
   "metadata": {
    "deletable": false,
    "editable": false
   },
   "outputs": [],
   "source": [
    "images = get_and_store_json(q, \"images.json\")"
   ]
  },
  {
   "cell_type": "code",
   "execution_count": 31,
   "metadata": {
    "deletable": false,
    "editable": false
   },
   "outputs": [
    {
     "data": {
      "text/plain": [
       "(2925, 1)"
      ]
     },
     "execution_count": 31,
     "metadata": {},
     "output_type": "execute_result"
    }
   ],
   "source": [
    "images.shape"
   ]
  },
  {
   "cell_type": "code",
   "execution_count": 32,
   "metadata": {
    "deletable": false,
    "editable": false,
    "scrolled": false
   },
   "outputs": [
    {
     "data": {
      "text/html": [
       "<div>\n",
       "<style scoped>\n",
       "    .dataframe tbody tr th:only-of-type {\n",
       "        vertical-align: middle;\n",
       "    }\n",
       "\n",
       "    .dataframe tbody tr th {\n",
       "        vertical-align: top;\n",
       "    }\n",
       "\n",
       "    .dataframe thead th {\n",
       "        text-align: right;\n",
       "    }\n",
       "</style>\n",
       "<table border=\"1\" class=\"dataframe\">\n",
       "  <thead>\n",
       "    <tr style=\"text-align: right;\">\n",
       "      <th></th>\n",
       "      <th>guid</th>\n",
       "    </tr>\n",
       "  </thead>\n",
       "  <tbody>\n",
       "    <tr>\n",
       "      <th>0</th>\n",
       "      <td>http://dikdas.kemdikbud.go.id/wp-content/uploa...</td>\n",
       "    </tr>\n",
       "    <tr>\n",
       "      <th>1</th>\n",
       "      <td>http://dikdas.kemdikbud.go.id/wp-content/uploa...</td>\n",
       "    </tr>\n",
       "    <tr>\n",
       "      <th>2</th>\n",
       "      <td>http://dikdas.kemdikbud.go.id/wp-content/uploa...</td>\n",
       "    </tr>\n",
       "    <tr>\n",
       "      <th>3</th>\n",
       "      <td>http://dikdas.kemdikbud.go.id/wp-content/uploa...</td>\n",
       "    </tr>\n",
       "    <tr>\n",
       "      <th>4</th>\n",
       "      <td>http://dikdas.kemdikbud.go.id/wp-content/uploa...</td>\n",
       "    </tr>\n",
       "  </tbody>\n",
       "</table>\n",
       "</div>"
      ],
      "text/plain": [
       "                                                guid\n",
       "0  http://dikdas.kemdikbud.go.id/wp-content/uploa...\n",
       "1  http://dikdas.kemdikbud.go.id/wp-content/uploa...\n",
       "2  http://dikdas.kemdikbud.go.id/wp-content/uploa...\n",
       "3  http://dikdas.kemdikbud.go.id/wp-content/uploa...\n",
       "4  http://dikdas.kemdikbud.go.id/wp-content/uploa..."
      ]
     },
     "execution_count": 32,
     "metadata": {},
     "output_type": "execute_result"
    }
   ],
   "source": [
    "images.head()"
   ]
  },
  {
   "cell_type": "code",
   "execution_count": 33,
   "metadata": {
    "deletable": false,
    "editable": false
   },
   "outputs": [],
   "source": [
    "images = list(images[\"guid\"])"
   ]
  },
  {
   "cell_type": "code",
   "execution_count": 34,
   "metadata": {
    "deletable": false,
    "editable": false
   },
   "outputs": [],
   "source": [
    "gallery_pictures = []\n",
    "\n",
    "temp = []\n",
    "for i in range(len(images)):\n",
    "    image_url = migrate_domain(images[i])\n",
    "    temp.append(image_url)\n",
    "    \n",
    "    if (i + 1) % 50 == 0:\n",
    "        gallery_pictures.append(temp)"
   ]
  },
  {
   "cell_type": "markdown",
   "metadata": {},
   "source": [
    "## Create Gallery"
   ]
  },
  {
   "cell_type": "code",
   "execution_count": 35,
   "metadata": {
    "deletable": false,
    "editable": false
   },
   "outputs": [],
   "source": [
    "import random\n",
    "import string\n",
    "\n",
    "def get_random_slug(k = 8):\n",
    "    return ''.join(random.choices(string.ascii_lowercase + string.digits, k=k))"
   ]
  },
  {
   "cell_type": "code",
   "execution_count": 36,
   "metadata": {
    "deletable": false,
    "editable": false
   },
   "outputs": [],
   "source": [
    "def migrate_gallery(gallery_id, pictures):\n",
    "    return {\n",
    "        \"titleID\": \"Gallery {:02d}\".format(gallery_id),\n",
    "        \"titleEN\": \"Gallery {:02d}\".format(gallery_id),\n",
    "        \"subtitle\": {\n",
    "            \"subtitleID\": \"Koleksi gambar dan foto\",\n",
    "            \"subtitleEN\": \"Picture and images collection\",\n",
    "        },\n",
    "        \"slug\": \"gallery-{:02d}-{}\".format(gallery_id, get_random_slug(8)),\n",
    "        \"coverURL\": pictures[0],\n",
    "        \"pictureURLs\": \"\\n\".join(pictures),\n",
    "        \"created_by\": {\n",
    "            \"id\": 3,\n",
    "        },\n",
    "        \"updated_by\": {\n",
    "            \"id\": 3,\n",
    "        },\n",
    "        \"isActive\": True,\n",
    "        \"migrated\": True,\n",
    "    }"
   ]
  },
  {
   "cell_type": "markdown",
   "metadata": {},
   "source": [
    "## Send Migration Request"
   ]
  },
  {
   "cell_type": "code",
   "execution_count": 54,
   "metadata": {
    "deletable": false,
    "editable": false,
    "run_control": {
     "frozen": true
    }
   },
   "outputs": [],
   "source": [
    "url = 'http://localhost:1337/galleries'"
   ]
  },
  {
   "cell_type": "code",
   "execution_count": null,
   "metadata": {
    "deletable": false,
    "editable": false,
    "run_control": {
     "frozen": true
    }
   },
   "outputs": [],
   "source": [
    "url = 'https://kemendikbud.herokuapp.com/galleries'"
   ]
  },
  {
   "cell_type": "code",
   "execution_count": 55,
   "metadata": {},
   "outputs": [
    {
     "name": "stderr",
     "output_type": "stream",
     "text": [
      " 16%|█▌        | 9/58 [00:01<00:06,  7.23it/s]\n"
     ]
    }
   ],
   "source": [
    "c = 10\n",
    "\n",
    "for i in tqdm(range(len(gallery_pictures))):\n",
    "    new_gallery = migrate_gallery(i, gallery_pictures[i])\n",
    "    requests.post(url, json=new_gallery)\n",
    "    \n",
    "    c -= 1\n",
    "    if c == 0:\n",
    "        break"
   ]
  },
  {
   "cell_type": "markdown",
   "metadata": {},
   "source": [
    "## Attachments"
   ]
  },
  {
   "cell_type": "code",
   "execution_count": 37,
   "metadata": {
    "deletable": false,
    "editable": false
   },
   "outputs": [],
   "source": [
    "q = '''\n",
    "    SELECT guid\n",
    "    FROM wpdikdas.wpdikdas_posts \n",
    "    WHERE \n",
    "    post_type = 'attachment' AND\n",
    "    post_mime_type != 'image/jpeg'\n",
    "    ORDER BY post_date ASC\n",
    "'''"
   ]
  },
  {
   "cell_type": "code",
   "execution_count": 38,
   "metadata": {
    "deletable": false,
    "editable": false
   },
   "outputs": [],
   "source": [
    "attachments = get_and_store_json(q, \"attachments.json\")"
   ]
  },
  {
   "cell_type": "code",
   "execution_count": 39,
   "metadata": {
    "deletable": false,
    "editable": false
   },
   "outputs": [
    {
     "data": {
      "text/plain": [
       "(1353, 1)"
      ]
     },
     "execution_count": 39,
     "metadata": {},
     "output_type": "execute_result"
    }
   ],
   "source": [
    "attachments.shape"
   ]
  }
 ],
 "metadata": {
  "kernelspec": {
   "display_name": "Python 3",
   "language": "python",
   "name": "python3"
  },
  "language_info": {
   "codemirror_mode": {
    "name": "ipython",
    "version": 3
   },
   "file_extension": ".py",
   "mimetype": "text/x-python",
   "name": "python",
   "nbconvert_exporter": "python",
   "pygments_lexer": "ipython3",
   "version": "3.6.9"
  }
 },
 "nbformat": 4,
 "nbformat_minor": 2
}
